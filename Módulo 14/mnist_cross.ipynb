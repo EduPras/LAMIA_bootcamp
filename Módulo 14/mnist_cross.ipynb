{
 "cells": [
  {
   "cell_type": "code",
   "execution_count": 2,
   "metadata": {},
   "outputs": [],
   "source": [
    "from keras.datasets import mnist\n",
    "from keras.models import Sequential\n",
    "from keras.layers import Dense, Flatten, Conv2D, MaxPooling2D\n",
    "from keras.utils import to_categorical\n",
    "import numpy as np\n",
    "from sklearn.model_selection import StratifiedKFold"
   ]
  },
  {
   "cell_type": "code",
   "execution_count": 3,
   "metadata": {},
   "outputs": [],
   "source": [
    "seed = 5\n",
    "np.random.seed(seed)"
   ]
  },
  {
   "cell_type": "code",
   "execution_count": 4,
   "metadata": {},
   "outputs": [],
   "source": [
    "(X, y), (X_test, y_test) = mnist.load_data()"
   ]
  },
  {
   "cell_type": "code",
   "execution_count": 5,
   "metadata": {},
   "outputs": [],
   "source": [
    "predictors = X.reshape(X.shape[0], 28, 28, 1)\n",
    "predictors = predictors.astype('float32')\n",
    "predictors /= 255 \n",
    "result_class = to_categorical(y, 10)"
   ]
  },
  {
   "cell_type": "code",
   "execution_count": 6,
   "metadata": {},
   "outputs": [],
   "source": [
    "kfold = StratifiedKFold(n_splits=5, shuffle=True, random_state=seed)\n",
    "results = []"
   ]
  },
  {
   "cell_type": "code",
   "execution_count": 8,
   "metadata": {},
   "outputs": [
    {
     "name": "stdout",
     "output_type": "stream",
     "text": [
      "Epoch 1/5\n",
      "375/375 [==============================] - 4s 11ms/step - loss: 0.2430 - accuracy: 0.9296\n",
      "Epoch 2/5\n",
      "375/375 [==============================] - 4s 11ms/step - loss: 0.0732 - accuracy: 0.9791\n",
      "Epoch 3/5\n",
      "375/375 [==============================] - 4s 11ms/step - loss: 0.0511 - accuracy: 0.9850\n",
      "Epoch 4/5\n",
      "375/375 [==============================] - 4s 11ms/step - loss: 0.0365 - accuracy: 0.9894\n",
      "Epoch 5/5\n",
      "375/375 [==============================] - 4s 11ms/step - loss: 0.0277 - accuracy: 0.9917\n",
      "375/375 [==============================] - 1s 2ms/step - loss: 0.0576 - accuracy: 0.9829\n",
      "Epoch 1/5\n",
      "375/375 [==============================] - 5s 11ms/step - loss: 0.2518 - accuracy: 0.9277\n",
      "Epoch 2/5\n",
      "375/375 [==============================] - 4s 11ms/step - loss: 0.0745 - accuracy: 0.9785\n",
      "Epoch 3/5\n",
      "375/375 [==============================] - 4s 10ms/step - loss: 0.0511 - accuracy: 0.9849\n",
      "Epoch 4/5\n",
      "375/375 [==============================] - 4s 11ms/step - loss: 0.0378 - accuracy: 0.9889\n",
      "Epoch 5/5\n",
      "375/375 [==============================] - 4s 10ms/step - loss: 0.0300 - accuracy: 0.9915\n",
      "375/375 [==============================] - 1s 2ms/step - loss: 0.0509 - accuracy: 0.9847\n",
      "Epoch 1/5\n",
      "375/375 [==============================] - 4s 10ms/step - loss: 0.2429 - accuracy: 0.9296\n",
      "Epoch 2/5\n",
      "375/375 [==============================] - 4s 10ms/step - loss: 0.0781 - accuracy: 0.9771\n",
      "Epoch 3/5\n",
      "375/375 [==============================] - 4s 10ms/step - loss: 0.0529 - accuracy: 0.9844\n",
      "Epoch 4/5\n",
      "375/375 [==============================] - 4s 10ms/step - loss: 0.0371 - accuracy: 0.9891\n",
      "Epoch 5/5\n",
      "375/375 [==============================] - 4s 10ms/step - loss: 0.0285 - accuracy: 0.9913\n",
      "375/375 [==============================] - 1s 2ms/step - loss: 0.0480 - accuracy: 0.9868\n",
      "Epoch 1/5\n",
      "375/375 [==============================] - 4s 10ms/step - loss: 0.2566 - accuracy: 0.9269\n",
      "Epoch 2/5\n",
      "375/375 [==============================] - 4s 10ms/step - loss: 0.0805 - accuracy: 0.9771\n",
      "Epoch 3/5\n",
      "375/375 [==============================] - 4s 10ms/step - loss: 0.0514 - accuracy: 0.9851\n",
      "Epoch 4/5\n",
      "375/375 [==============================] - 4s 10ms/step - loss: 0.0382 - accuracy: 0.9888\n",
      "Epoch 5/5\n",
      "375/375 [==============================] - 4s 10ms/step - loss: 0.0303 - accuracy: 0.9907\n",
      "375/375 [==============================] - 1s 2ms/step - loss: 0.0501 - accuracy: 0.9848\n",
      "Epoch 1/5\n",
      "375/375 [==============================] - 4s 10ms/step - loss: 0.2540 - accuracy: 0.9273\n",
      "Epoch 2/5\n",
      "375/375 [==============================] - 4s 10ms/step - loss: 0.0782 - accuracy: 0.9774\n",
      "Epoch 3/5\n",
      "375/375 [==============================] - 4s 10ms/step - loss: 0.0533 - accuracy: 0.9845\n",
      "Epoch 4/5\n",
      "375/375 [==============================] - 4s 10ms/step - loss: 0.0396 - accuracy: 0.9882\n",
      "Epoch 5/5\n",
      "375/375 [==============================] - 4s 10ms/step - loss: 0.0298 - accuracy: 0.9907\n",
      "375/375 [==============================] - 1s 2ms/step - loss: 0.0555 - accuracy: 0.9838\n"
     ]
    }
   ],
   "source": [
    "for index_train, index_test in kfold.split(\n",
    "    predictors, np.zeros(shape=(result_class.shape[0], 1))):\n",
    "    classifier = Sequential()\n",
    "    # convolution layer\n",
    "    classifier.add(Conv2D(32, (3,3), input_shape=(28, 28, 1), activation='relu'))\n",
    "    # classifier.add(BatchNormalization())\n",
    "    classifier.add(MaxPooling2D(pool_size=(2, 2)))\n",
    "\n",
    "    # classifier.add(Conv2D(32, (3,3), activation='relu'))\n",
    "    # classifier.add(BatchNormalization())\n",
    "    # classifier.add(MaxPooling2D(pool_size=(2,2)))\n",
    "    classifier.add(Flatten())\n",
    "    # Dense NN\n",
    "    classifier.add(Dense(units=128, activation='relu'))\n",
    "    # classifier.add(Dropout(0.2))\n",
    "    # classifier.add(Dense(units=128, activation='relu'))\n",
    "    # classifier.add(Dropout(0.2))\n",
    "    classifier.add(Dense(units=10, activation='softmax'))\n",
    "    classifier.compile(loss='categorical_crossentropy', optimizer='adam', metrics=['accuracy'])\n",
    "    classifier.fit(predictors[index_train], result_class[index_train],\n",
    "                   batch_size=128, epochs=5)\n",
    "    precision = classifier.evaluate(predictors[index_test], result_class[index_test])\n",
    "    results.append(precision[1])"
   ]
  },
  {
   "cell_type": "code",
   "execution_count": null,
   "metadata": {},
   "outputs": [],
   "source": []
  }
 ],
 "metadata": {
  "kernelspec": {
   "display_name": "Python 3",
   "language": "python",
   "name": "python3"
  },
  "language_info": {
   "codemirror_mode": {
    "name": "ipython",
    "version": 3
   },
   "file_extension": ".py",
   "mimetype": "text/x-python",
   "name": "python",
   "nbconvert_exporter": "python",
   "pygments_lexer": "ipython3",
   "version": "3.11.2"
  },
  "orig_nbformat": 4
 },
 "nbformat": 4,
 "nbformat_minor": 2
}
