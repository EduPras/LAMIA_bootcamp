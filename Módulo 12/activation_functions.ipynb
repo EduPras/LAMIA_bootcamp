{
 "cells": [
  {
   "cell_type": "code",
   "execution_count": 18,
   "metadata": {},
   "outputs": [],
   "source": [
    "import numpy as np"
   ]
  },
  {
   "cell_type": "code",
   "execution_count": 19,
   "metadata": {},
   "outputs": [
    {
     "name": "stdout",
     "output_type": "stream",
     "text": [
      "1\n",
      "0\n"
     ]
    }
   ],
   "source": [
    "def stepFunction(s):\n",
    "    if (s >=1):\n",
    "        return 1\n",
    "    return 0\n",
    "print(stepFunction(1))\n",
    "print(stepFunction(-1))"
   ]
  },
  {
   "cell_type": "code",
   "execution_count": 20,
   "metadata": {},
   "outputs": [
    {
     "name": "stdout",
     "output_type": "stream",
     "text": [
      "0.9999999999999065\n",
      "0.2689414213699951\n"
     ]
    }
   ],
   "source": [
    "def sigmoidFunction(s):\n",
    "    return 1 / (1 + np.exp(-s))\n",
    "print(sigmoidFunction(30))\n",
    "print(sigmoidFunction(-1))"
   ]
  },
  {
   "cell_type": "code",
   "execution_count": 21,
   "metadata": {},
   "outputs": [
    {
     "name": "stdout",
     "output_type": "stream",
     "text": [
      "1.0\n",
      "-0.7615941559557649\n"
     ]
    }
   ],
   "source": [
    "def tahmFunction(s):\n",
    "    return (np.exp(s) - np.exp(-s))/(np.exp(s)+np.exp(-s))\n",
    "print(tahmFunction(30))\n",
    "print(tahmFunction(-1))"
   ]
  },
  {
   "cell_type": "code",
   "execution_count": 22,
   "metadata": {},
   "outputs": [
    {
     "name": "stdout",
     "output_type": "stream",
     "text": [
      "30\n",
      "0\n"
     ]
    }
   ],
   "source": [
    "def ReLU(s):\n",
    "    return max(0, s)\n",
    "print(ReLU(30))\n",
    "print(ReLU(-1))"
   ]
  },
  {
   "cell_type": "code",
   "execution_count": 23,
   "metadata": {},
   "outputs": [
    {
     "name": "stdout",
     "output_type": "stream",
     "text": [
      "30\n",
      "-1\n"
     ]
    }
   ],
   "source": [
    "def linearFunction(s):\n",
    "    return s\n",
    "print(linearFunction(30))\n",
    "print(linearFunction(-1))"
   ]
  },
  {
   "cell_type": "code",
   "execution_count": 24,
   "metadata": {},
   "outputs": [
    {
     "name": "stdout",
     "output_type": "stream",
     "text": [
      "[148.4131591    7.3890561    3.66929667]\n",
      "[0.93065625 0.04633465 0.0230091 ]\n"
     ]
    }
   ],
   "source": [
    "def softMaxFunction(x):\n",
    "    ex = np.exp(x)\n",
    "    print(ex)\n",
    "    return ex / ex.sum()\n",
    "values = [5.0, 2.0, 1.3]\n",
    "print(softMaxFunction(values))"
   ]
  }
 ],
 "metadata": {
  "kernelspec": {
   "display_name": "Python 3",
   "language": "python",
   "name": "python3"
  },
  "language_info": {
   "codemirror_mode": {
    "name": "ipython",
    "version": 3
   },
   "file_extension": ".py",
   "mimetype": "text/x-python",
   "name": "python",
   "nbconvert_exporter": "python",
   "pygments_lexer": "ipython3",
   "version": "3.11.2"
  },
  "orig_nbformat": 4
 },
 "nbformat": 4,
 "nbformat_minor": 2
}
