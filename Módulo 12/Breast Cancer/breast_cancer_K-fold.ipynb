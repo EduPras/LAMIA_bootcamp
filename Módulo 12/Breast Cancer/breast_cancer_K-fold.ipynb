{
 "cells": [
  {
   "cell_type": "code",
   "execution_count": 19,
   "metadata": {},
   "outputs": [],
   "source": [
    "import pandas as pd\n",
    "import keras\n",
    "from keras.models import Sequential\n",
    "from keras.layers import Dense, Dropout\n",
    "from scikeras.wrappers import KerasClassifier\n",
    "from sklearn.model_selection import cross_val_score"
   ]
  },
  {
   "cell_type": "code",
   "execution_count": 20,
   "metadata": {},
   "outputs": [],
   "source": [
    "X = pd.read_csv('entradas_breast.csv')\n",
    "y = pd.read_csv('saidas_breast.csv')"
   ]
  },
  {
   "cell_type": "code",
   "execution_count": 21,
   "metadata": {},
   "outputs": [],
   "source": [
    "def createNetwork():\n",
    "    # creating neurons \n",
    "    classifier = Sequential()\n",
    "    classifier.add(Dense(units=16, activation='relu', \n",
    "                            kernel_initializer='random_uniform', input_dim = 30))\n",
    "    classifier.add(Dropout(0.2))\n",
    "    classifier.add(Dense(units=16, activation='relu', \n",
    "                            kernel_initializer='random_uniform'))\n",
    "    classifier.add(Dropout(0.2))\n",
    "    classifier.add(Dense(units=1, activation='sigmoid'))\n",
    "    # optmizers\n",
    "    optmizer = keras.optimizers.Adam(learning_rate=0.001, weight_decay=0.0001, clipvalue=0.5)\n",
    "    classifier.compile(optimizer=optmizer, loss='binary_crossentropy',\n",
    "                        metrics= ['binary_accuracy'])\n",
    "    return classifier"
   ]
  },
  {
   "cell_type": "code",
   "execution_count": 22,
   "metadata": {},
   "outputs": [],
   "source": [
    "classifier = KerasClassifier(build_fn= createNetwork, epochs=100, batch_size=10)"
   ]
  },
  {
   "cell_type": "code",
   "execution_count": null,
   "metadata": {},
   "outputs": [],
   "source": [
    "results = cross_val_score(estimator=classifier, X = X, y = y, cv=10, scoring= 'accuracy')"
   ]
  },
  {
   "cell_type": "code",
   "execution_count": 24,
   "metadata": {},
   "outputs": [
    {
     "name": "stdout",
     "output_type": "stream",
     "text": [
      "0.8945802005012531 0.025920186298537533\n"
     ]
    }
   ],
   "source": [
    "print(results.mean(), results.std())"
   ]
  },
  {
   "cell_type": "code",
   "execution_count": null,
   "metadata": {},
   "outputs": [],
   "source": []
  }
 ],
 "metadata": {
  "kernelspec": {
   "display_name": "Python 3",
   "language": "python",
   "name": "python3"
  },
  "language_info": {
   "codemirror_mode": {
    "name": "ipython",
    "version": 3
   },
   "file_extension": ".py",
   "mimetype": "text/x-python",
   "name": "python",
   "nbconvert_exporter": "python",
   "pygments_lexer": "ipython3",
   "version": "3.11.2"
  },
  "orig_nbformat": 4
 },
 "nbformat": 4,
 "nbformat_minor": 2
}
