{
 "cells": [
  {
   "cell_type": "code",
   "execution_count": 1,
   "metadata": {},
   "outputs": [
    {
     "name": "stderr",
     "output_type": "stream",
     "text": [
      "2023-07-21 22:26:00.726747: I tensorflow/core/util/port.cc:110] oneDNN custom operations are on. You may see slightly different numerical results due to floating-point round-off errors from different computation orders. To turn them off, set the environment variable `TF_ENABLE_ONEDNN_OPTS=0`.\n",
      "2023-07-21 22:26:00.728027: I tensorflow/tsl/cuda/cudart_stub.cc:28] Could not find cuda drivers on your machine, GPU will not be used.\n",
      "2023-07-21 22:26:00.759436: I tensorflow/tsl/cuda/cudart_stub.cc:28] Could not find cuda drivers on your machine, GPU will not be used.\n",
      "2023-07-21 22:26:00.760244: I tensorflow/core/platform/cpu_feature_guard.cc:182] This TensorFlow binary is optimized to use available CPU instructions in performance-critical operations.\n",
      "To enable the following instructions: AVX2 AVX512F AVX512_VNNI FMA, in other operations, rebuild TensorFlow with the appropriate compiler flags.\n",
      "2023-07-21 22:26:01.274669: W tensorflow/compiler/tf2tensorrt/utils/py_utils.cc:38] TF-TRT Warning: Could not find TensorRT\n"
     ]
    }
   ],
   "source": [
    "import pandas as pd\n",
    "import keras\n",
    "from keras.models import Sequential\n",
    "from keras.layers import Dense, Dropout\n",
    "from scikeras.wrappers import KerasClassifier\n",
    "from sklearn.model_selection import GridSearchCV"
   ]
  },
  {
   "cell_type": "code",
   "execution_count": 2,
   "metadata": {},
   "outputs": [],
   "source": [
    "X = pd.read_csv('entradas_breast.csv')\n",
    "y = pd.read_csv('saidas_breast.csv')"
   ]
  },
  {
   "cell_type": "code",
   "execution_count": 22,
   "metadata": {},
   "outputs": [],
   "source": [
    "def createNetwork(optimizer, loss, kernel_initializer, activation, neurons):\n",
    "    # creating neurons \n",
    "    classifier = Sequential()\n",
    "    classifier.add(Dense(units=neurons, activation=activation, \n",
    "                            kernel_initializer=kernel_initializer, input_dim = 30))\n",
    "    classifier.add(Dropout(0.2))\n",
    "    classifier.add(Dense(units=neurons, activation=activation, \n",
    "                            kernel_initializer=kernel_initializer))\n",
    "    classifier.add(Dropout(0.2))\n",
    "    classifier.add(Dense(units=1, activation='sigmoid'))\n",
    "\n",
    "    classifier.compile(optimizer=optimizer, loss=loss,\n",
    "                        metrics= ['binary_accuracy'])\n",
    "    return classifier"
   ]
  },
  {
   "cell_type": "code",
   "execution_count": null,
   "metadata": {},
   "outputs": [],
   "source": [
    "params = {\n",
    "    'batch_size': [10, 30],\n",
    "    'epochs': [50, 100],\n",
    "    'model__optimizer': ['Adam', 'SGD'],\n",
    "    'model__loss': ['binary_crossentropy', 'hinge'],\n",
    "    'model__kernel_initializer': ['random_uniform', 'normal'],\n",
    "    'model__activation': ['relu', 'tanh'],\n",
    "    'model__neurons': [16, 8]\n",
    "}\n",
    "classifier = KerasClassifier(build_fn=createNetwork)\n",
    "grid_search = GridSearchCV(estimator=classifier, param_grid=params, scoring='accuracy', cv=5)\n",
    "grid_search = grid_search.fit(X, y)\n",
    "best_params = grid_search.best_params_\n",
    "best_score = grid_search.best_score_"
   ]
  },
  {
   "cell_type": "code",
   "execution_count": null,
   "metadata": {},
   "outputs": [],
   "source": [
    "# Obs: Não rodei o algoritmo por demorar muito."
   ]
  }
 ],
 "metadata": {
  "kernelspec": {
   "display_name": "Python 3",
   "language": "python",
   "name": "python3"
  },
  "language_info": {
   "codemirror_mode": {
    "name": "ipython",
    "version": 3
   },
   "file_extension": ".py",
   "mimetype": "text/x-python",
   "name": "python",
   "nbconvert_exporter": "python",
   "pygments_lexer": "ipython3",
   "version": "3.11.2"
  },
  "orig_nbformat": 4
 },
 "nbformat": 4,
 "nbformat_minor": 2
}
