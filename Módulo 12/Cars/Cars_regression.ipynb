{
 "cells": [
  {
   "cell_type": "code",
   "execution_count": 1,
   "metadata": {},
   "outputs": [],
   "source": [
    "import pandas as pd"
   ]
  },
  {
   "cell_type": "markdown",
   "metadata": {},
   "source": [
    "Pré-processamento"
   ]
  },
  {
   "cell_type": "code",
   "execution_count": 2,
   "metadata": {},
   "outputs": [],
   "source": [
    "base = pd.read_csv('autos.csv', encoding='ISO-8859-1')\n",
    "base = base.drop('dateCrawled', axis=1)\n",
    "base = base.drop('dateCreated', axis = 1)\n",
    "base = base.drop('nrOfPictures', axis = 1)\n",
    "base = base.drop('postalCode', axis = 1)\n",
    "base = base.drop('lastSeen', axis = 1)"
   ]
  },
  {
   "cell_type": "code",
   "execution_count": 3,
   "metadata": {},
   "outputs": [
    {
     "data": {
      "text/plain": [
       "name\n",
       "Ford_Fiesta                                              657\n",
       "BMW_318i                                                 627\n",
       "Opel_Corsa                                               622\n",
       "Volkswagen_Golf_1.4                                      603\n",
       "BMW_316i                                                 523\n",
       "                                                        ... \n",
       "Audi_A4_Avant_Klima_Gruene_Plakette_TÜV_&AU_NEU_XENON      1\n",
       "Renault_clio_in_gold_450VB_!!                              1\n",
       "Fiat_Doblo_1.6_Multijet                                    1\n",
       "Renault_Laguna_1                                           1\n",
       "BMW_M135i_vollausgestattet_NP_52.720____Euro               1\n",
       "Name: count, Length: 233531, dtype: int64"
      ]
     },
     "execution_count": 3,
     "metadata": {},
     "output_type": "execute_result"
    }
   ],
   "source": [
    "base['name'].value_counts()"
   ]
  },
  {
   "cell_type": "code",
   "execution_count": 4,
   "metadata": {},
   "outputs": [],
   "source": [
    "base = base.drop('name', axis = 1)\n",
    "base['seller'].value_counts()\n",
    "base = base.drop('seller', axis = 1)\n",
    "base['offerType'].value_counts()\n",
    "base = base.drop('offerType', axis = 1)\n",
    "i1 = base.loc[base.price <= 10]\n",
    "base = base[base.price > 10]\n",
    "i2 = base.loc[base.price > 350000]\n",
    "base = base[base.price < 350000]"
   ]
  },
  {
   "cell_type": "code",
   "execution_count": 5,
   "metadata": {},
   "outputs": [
    {
     "data": {
      "text/plain": [
       "notRepairedDamage\n",
       "nein    259301\n",
       "ja       34004\n",
       "Name: count, dtype: int64"
      ]
     },
     "execution_count": 5,
     "metadata": {},
     "output_type": "execute_result"
    }
   ],
   "source": [
    "base.vehicleType.value_counts() # limousine\n",
    "base.gearbox.value_counts() # manuell\n",
    "base.model.value_counts() # golf\n",
    "base.fuelType.value_counts() # benzin\n",
    "base.notRepairedDamage.value_counts() # nein"
   ]
  },
  {
   "cell_type": "code",
   "execution_count": 6,
   "metadata": {},
   "outputs": [],
   "source": [
    "values = {\n",
    "    'vehicleType': 'limousine',\n",
    "    'model': 'golf',\n",
    "    'gearbox': 'manuell',\n",
    "    'fuelType': 'benzin',\n",
    "    'notRepairedDamage': 'nein'\n",
    "}"
   ]
  },
  {
   "cell_type": "code",
   "execution_count": 7,
   "metadata": {},
   "outputs": [],
   "source": [
    "base = base.fillna(value = values)"
   ]
  },
  {
   "cell_type": "code",
   "execution_count": 8,
   "metadata": {},
   "outputs": [
    {
     "data": {
      "text/plain": [
       "array(['test', 'limousine', 1993, 'manuell', 0, 'golf', 150000, 0,\n",
       "       'benzin', 'volkswagen', 'nein'], dtype=object)"
      ]
     },
     "execution_count": 8,
     "metadata": {},
     "output_type": "execute_result"
    }
   ],
   "source": [
    "predictors = base.iloc[:, 1:13].values\n",
    "predictors[0]"
   ]
  },
  {
   "cell_type": "code",
   "execution_count": 9,
   "metadata": {},
   "outputs": [
    {
     "data": {
      "text/plain": [
       "array([  480, 18300,  9800, ...,  9200,  3400, 28990])"
      ]
     },
     "execution_count": 9,
     "metadata": {},
     "output_type": "execute_result"
    }
   ],
   "source": [
    "real_price = base.iloc[:, 0].values\n",
    "real_price"
   ]
  },
  {
   "cell_type": "code",
   "execution_count": 10,
   "metadata": {},
   "outputs": [],
   "source": [
    "from sklearn.preprocessing import OneHotEncoder\n",
    "from sklearn.compose import ColumnTransformer\n",
    "\n",
    "ct = ColumnTransformer([\n",
    "    (\"c0\", OneHotEncoder(), [0]),\n",
    "    (\"c1\", OneHotEncoder(), [1]),\n",
    "    (\"c3\", OneHotEncoder(), [3]),\n",
    "    (\"c5\", OneHotEncoder(), [5]),\n",
    "    (\"c8\", OneHotEncoder(), [8]),\n",
    "    (\"c9\", OneHotEncoder(), [9]),\n",
    "    (\"c10\", OneHotEncoder(), [10]),\n",
    "    \n",
    "    ], remainder='passthrough')"
   ]
  },
  {
   "cell_type": "code",
   "execution_count": 11,
   "metadata": {},
   "outputs": [],
   "source": [
    "predictors = ct.fit_transform(predictors).toarray()"
   ]
  },
  {
   "cell_type": "code",
   "execution_count": 12,
   "metadata": {},
   "outputs": [
    {
     "data": {
      "text/plain": [
       "array([0., 0., 0., ..., 1., 0., 0.])"
      ]
     },
     "execution_count": 12,
     "metadata": {},
     "output_type": "execute_result"
    }
   ],
   "source": [
    "predictors[:, 3]"
   ]
  },
  {
   "cell_type": "code",
   "execution_count": 13,
   "metadata": {},
   "outputs": [
    {
     "name": "stderr",
     "output_type": "stream",
     "text": [
      "2023-07-27 17:30:35.953327: I tensorflow/core/util/port.cc:110] oneDNN custom operations are on. You may see slightly different numerical results due to floating-point round-off errors from different computation orders. To turn them off, set the environment variable `TF_ENABLE_ONEDNN_OPTS=0`.\n",
      "2023-07-27 17:30:35.954678: I tensorflow/tsl/cuda/cudart_stub.cc:28] Could not find cuda drivers on your machine, GPU will not be used.\n",
      "2023-07-27 17:30:35.983342: I tensorflow/tsl/cuda/cudart_stub.cc:28] Could not find cuda drivers on your machine, GPU will not be used.\n",
      "2023-07-27 17:30:35.983724: I tensorflow/core/platform/cpu_feature_guard.cc:182] This TensorFlow binary is optimized to use available CPU instructions in performance-critical operations.\n",
      "To enable the following instructions: AVX2 AVX512F AVX512_VNNI FMA, in other operations, rebuild TensorFlow with the appropriate compiler flags.\n",
      "2023-07-27 17:30:36.554334: W tensorflow/compiler/tf2tensorrt/utils/py_utils.cc:38] TF-TRT Warning: Could not find TensorRT\n"
     ]
    }
   ],
   "source": [
    "from keras.models import Sequential\n",
    "from keras.layers import Dense\n",
    "from sklearn.model_selection import cross_val_score\n",
    "from scikeras.wrappers import KerasRegressor"
   ]
  },
  {
   "cell_type": "code",
   "execution_count": 14,
   "metadata": {},
   "outputs": [],
   "source": [
    "def create_network():\n",
    "    regressor = Sequential()\n",
    "    regressor.add(Dense(units=158, activation='relu', input_dim = 316))\n",
    "    regressor.add(Dense(units=158, activation='relu'))\n",
    "    regressor.add(Dense(units=1, activation='linear'))\n",
    "\n",
    "    regressor.compile(loss='mean_absolute_error', optimizer='adam', metrics=['mean_absolute_error'])\n",
    "    regressor.fit(predictors, real_price, batch_size=300, epochs=100)\n",
    "    return regressor"
   ]
  },
  {
   "cell_type": "code",
   "execution_count": null,
   "metadata": {},
   "outputs": [],
   "source": [
    "regressor = KerasRegressor(build_fn=create_network, epochs=100, batch_size=300)\n",
    "results = cross_val_score(estimator=regressor, X=predictors, y=real_price, cv =10, scoring='neg_mean_absolute_error')\n",
    "mean = results.mean()\n",
    "deviation = results.std()"
   ]
  },
  {
   "cell_type": "code",
   "execution_count": null,
   "metadata": {},
   "outputs": [],
   "source": [
    "# Não rodei por motivos de demorar muito e exigir muito do notebook"
   ]
  }
 ],
 "metadata": {
  "kernelspec": {
   "display_name": "Python 3",
   "language": "python",
   "name": "python3"
  },
  "language_info": {
   "codemirror_mode": {
    "name": "ipython",
    "version": 3
   },
   "file_extension": ".py",
   "mimetype": "text/x-python",
   "name": "python",
   "nbconvert_exporter": "python",
   "pygments_lexer": "ipython3",
   "version": "3.11.2"
  },
  "orig_nbformat": 4
 },
 "nbformat": 4,
 "nbformat_minor": 2
}
